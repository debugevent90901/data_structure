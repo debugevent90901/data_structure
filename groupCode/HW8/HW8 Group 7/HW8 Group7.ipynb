{
 "cells": [
  {
   "cell_type": "markdown",
   "metadata": {},
   "source": [
    "# Homework 8 of group 7 \n",
    "#### Members: Zhu Zhongbo, Xie Tian, Guan Zimu, Yang Zhaohua\n",
    "#### This file only contains exercise1 and exercise 3"
   ]
  },
  {
   "cell_type": "markdown",
   "metadata": {},
   "source": [
    "## Exercise 1\n",
    "### Exercise 1 (1)"
   ]
  },
  {
   "cell_type": "code",
   "execution_count": 3,
   "metadata": {},
   "outputs": [
    {
     "name": "stdout",
     "output_type": "stream",
     "text": [
      "Cost Matrix:\n",
      " [[ 0 20  3 11]\n",
      " [20  0 13 17]\n",
      " [ 3 13  0  9]\n",
      " [11 17  9  0]] \n",
      "\n",
      "edge:  (0, 1) weight:  20\n",
      "edge:  (0, 2) weight:  3\n",
      "edge:  (0, 3) weight:  11\n",
      "edge:  (1, 2) weight:  13\n",
      "edge:  (1, 3) weight:  17\n",
      "edge:  (2, 3) weight:  9\n",
      "\n",
      "MaxSpanningTree:\n",
      " [(0, 1), (1, 3), (1, 2)]\n"
     ]
    }
   ],
   "source": [
    "# cs225 assignment8 ex1\n",
    "\n",
    "import numpy as np\n",
    "\n",
    "# the implementation will generate a random undirected graph\n",
    "def MaxSpanningTree(n, weight_range = [1, 20]):\n",
    "    def __generateMAT(n):\n",
    "        mat = np.random.randint(weight_range[0], weight_range[1]+1, (n, n))\n",
    "        for i in range(n):\n",
    "            for j in range(n):\n",
    "                if i == j:\n",
    "                    mat[i, j] = 0\n",
    "                elif i > j:\n",
    "                    mat[i, j] = mat[j, i]\n",
    "        print(\"Cost Matrix:\\n\", mat, \"\\n\")\n",
    "        return mat\n",
    "\n",
    "    # edge in form of (cost, vertex1, vertex2), where vertex1 < vertex2\n",
    "    mat, edges, edges_reversed = __generateMAT(n), [], []\n",
    "    sum = mat.sum()\n",
    "    for i in range(n):\n",
    "        for j in range(n):\n",
    "            if i < j:\n",
    "                edges.append((mat[i, j], i, j))\n",
    "                edges_reversed.append((sum-mat[i, j], i, j))\n",
    "    # Sort the edge list\n",
    "    edges_reversed = sorted(edges_reversed, key=lambda x: x[0])\n",
    "\n",
    "    for i in edges:\n",
    "        print(\"edge: \", (i[1], i[2]), \"weight: \", i[0])\n",
    "\n",
    "    # We use index from 0 to n - 1\n",
    "    CC_lst = [[i] for i in range(n)]\n",
    "    MST_edges = []\n",
    "    while len(CC_lst) > 1:\n",
    "        curr_edge = edges_reversed.pop(0)\n",
    "        for CC in CC_lst:\n",
    "            if curr_edge[1] in CC:\n",
    "                CC_1 = CC.copy()\n",
    "            if curr_edge[2] in CC:\n",
    "                CC_2 = CC\n",
    "        # Merge two connected component\n",
    "        if CC_1 == CC_2:\n",
    "            continue\n",
    "        CC_lst.remove(CC_1)\n",
    "        CC_lst.remove(CC_2)\n",
    "        CC_1.extend(CC_2)\n",
    "        CC_lst.append(CC_1)\n",
    "        MST_edges.append((curr_edge[1], curr_edge[2]))\n",
    "\n",
    "    # Output the result\n",
    "    print(\"\\nMaxSpanningTree:\\n\", MST_edges)\n",
    "\n",
    "\n",
    "'''\n",
    "There will be no differences, both algorithms will still work.\n",
    "In Kruskal's algorithm the edge added to the subset of MST is always the edge with least costs which links the two distinct components. \n",
    "It does nothing with whether the cost is positive or negative, only the comparation matters.\n",
    "Similarly, in Prim's algorithm the edge added to the promising subset is also the edge with least cost, which is still revalent to the comparation and not the magnitude.\n",
    "Therefore, it is still sensible.\n",
    "\n",
    "'''\n",
    "\n",
    "\n",
    "def main():\n",
    "    MaxSpanningTree(4)\n",
    "\n",
    "\n",
    "if __name__ == \"__main__\":\n",
    "    main()"
   ]
  },
  {
   "cell_type": "markdown",
   "metadata": {},
   "source": [
    "### Exercise 1 (2)\n",
    "\n",
    "There will be no differences, both algorithms will still work.\n",
    "In Kruskal's algorithm the edge added to the subset of MST is always the edge with least costs which links the two distinct components. \n",
    "It does nothing with whether the cost is positive or negative, only the comparation matters.\n",
    "Similarly, in Prim's algorithm the edge added to the promising subset is also the edge with least cost, which is still revalent to the comparation and not the magnitude.\n",
    "Therefore, it is still sensible.\n"
   ]
  },
  {
   "cell_type": "markdown",
   "metadata": {},
   "source": [
    "## Exercise 3\n"
   ]
  },
  {
   "cell_type": "markdown",
   "metadata": {},
   "source": [
    "Here is the algorithm:\n",
    "\n",
    "​\tEvery time when we get a new edge, check the vertices it is connected to.\n",
    "\n",
    "​\tIf at least one vertices (2 or 1 vertices) does not appear in the same connected component(which must be trees) , add the edge into the graph, get the next edge and repeat the procedure.\n",
    "\n",
    "​\tIf two vertices are in the same connected component, add the edge into the graph. Then there would be a loop in the connected component. Delete the edge with the biggest cost in the loop, then get the next edge and repeat the procedure.\n",
    "\n",
    "​\tKeep the procedure until there is no edge to be added in.\n",
    "\n",
    "As in every step, we only store the edges in the MST, which contains at most $n-1$ edges, so the algorithm uses the space $O(|V|)$"
   ]
  }
 ],
 "metadata": {
  "kernelspec": {
   "display_name": "Python 3",
   "language": "python",
   "name": "python3"
  },
  "language_info": {
   "codemirror_mode": {
    "name": "ipython",
    "version": 3
   },
   "file_extension": ".py",
   "mimetype": "text/x-python",
   "name": "python",
   "nbconvert_exporter": "python",
   "pygments_lexer": "ipython3",
   "version": "3.7.4"
  }
 },
 "nbformat": 4,
 "nbformat_minor": 2
}
